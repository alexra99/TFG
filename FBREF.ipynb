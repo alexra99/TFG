{
  "nbformat": 4,
  "nbformat_minor": 0,
  "metadata": {
    "colab": {
      "name": "FBREF.ipynb",
      "provenance": [],
      "collapsed_sections": []
    },
    "kernelspec": {
      "name": "python3",
      "display_name": "Python 3"
    },
    "language_info": {
      "name": "python"
    }
  },
  "cells": [
    {
      "cell_type": "code",
      "source": [
        "import pandas as pd"
      ],
      "metadata": {
        "id": "FkbhMCbQUSYR"
      },
      "execution_count": 2,
      "outputs": []
    },
    {
      "cell_type": "markdown",
      "source": [
        "# **1. Definición de variables necesarias para la extracción.**"
      ],
      "metadata": {
        "id": "cRBtr2221PeT"
      }
    },
    {
      "cell_type": "code",
      "execution_count": 3,
      "metadata": {
        "id": "wleqS833T_Yj"
      },
      "outputs": [],
      "source": [
        "# Defined variables\n",
        "\n",
        "##Define league names and their IDs\n",
        "dict_league_names = {'Premier-League': '9',\n",
        "                     'Ligue-1': '13',\n",
        "                     'Bundesliga': '20',\n",
        "                     'Serie-A': '11',\n",
        "                     'La-Liga': '12',\n",
        "                     'Major-League-Soccer': '22',\n",
        "                     'Big-5-European-Leagues': 'Big5'\n",
        "                    }\n",
        "## Define list of long names for 'Big 5' European Leagues and MLS\n",
        "lst_league_names_long = ['Premier-League', 'Ligue-1', 'Bundesliga', 'Serie-A', 'La-Liga', 'Major-League-Soccer', 'Big-5-European-Leagues']\n",
        "\n",
        "## Define seasons to scrape\n",
        "lst_seasons = ['2017-2018', '2018-2019', '2019-2020', '2020-2021', '2021-2022']"
      ]
    },
    {
      "cell_type": "markdown",
      "source": [
        "# **2. Función para extracción de estádisticas de los jugadores**"
      ],
      "metadata": {
        "id": "nRF412dk1oi6"
      }
    },
    {
      "cell_type": "code",
      "source": [
        "# Define function for scraping a defined season and competition of FBref player data\n",
        "def get_fbref_player_stats(lst_league_names, lst_seasons):\n",
        "    \n",
        "    ## Define list of league names\n",
        "    league_names_long = lst_league_names\n",
        "    \n",
        "    ## Define seasons to scrape\n",
        "    seasons = lst_seasons\n",
        "\n",
        "    ## Scrape information for each player\n",
        "    for season in seasons:\n",
        "\n",
        "        ### Print message\n",
        "        print(f'Scraping started for the {season} season...')\n",
        "\n",
        "        ### Loop through leagues\n",
        "        for league_name_long in league_names_long:\n",
        "            league_name_short = [v for k,v in dict_league_names.items() if k == league_name_long][0]\n",
        "    \n",
        "            print(f'Scraping started for player stats data for {league_name_long} league for the {season} season...')\n",
        "            \n",
        "            print(f'Scraping Standard stats...')\n",
        "            url_std_stats = f'https://widgets.sports-reference.com/wg.fcgi?css=1&site=fb&url=%2Fen%2Fcomps%2F{league_name_short}%2F{season}%2Fstats%2Fplayers%2F{season}-{league_name_long}&div=div_stats_standard'\n",
        "            df_std_stats = pd.read_html(url_std_stats, header=1)[0]  \n",
        "            \n",
        "            ##### Shooting stats\n",
        "            print(f'Scraping Shooting stats...')\n",
        "            url_shooting = f'https://widgets.sports-reference.com/wg.fcgi?css=1&site=fb&url=%2Fen%2Fcomps%2F{league_name_short}%2F{season}%2Fshooting%2Fplayers%2F{season}-{league_name_long}&div=div_stats_shooting'\n",
        "            df_shooting = pd.read_html(url_shooting, header=1)[0]\n",
        "\n",
        "            ##### Passing stats\n",
        "            print(f'Scraping Passing stats...')\n",
        "            url_passing = f'https://widgets.sports-reference.com/wg.fcgi?css=1&site=fb&url=%2Fen%2Fcomps%2F{league_name_short}%2F{season}%2Fpassing%2Fplayers%2F{season}-{league_name_long}&div=div_stats_passing'\n",
        "            df_passing = pd.read_html(url_passing, header=1)[0]\n",
        "\n",
        "            ##### Pass Types stats\n",
        "            print(f'Scraping Pass Types stats...')\n",
        "            url_passing_types = f'https://widgets.sports-reference.com/wg.fcgi?css=1&site=fb&url=%2Fen%2Fcomps%2F{league_name_short}%2F{season}%2Fpassing_types%2Fplayers%2F{season}-{league_name_long}&div=div_stats_passing_types'\n",
        "            df_passing_types = pd.read_html(url_passing_types, header=1)[0]\n",
        "\n",
        "            ##### Goals and Shot Creation stats\n",
        "            print(f'Scraping Goals and Shot Creation stats...')\n",
        "            url_gca = f'https://widgets.sports-reference.com/wg.fcgi?css=1&site=fb&url=%2Fen%2Fcomps%2F{league_name_short}%2F{season}%2Fgca%2Fplayers%2F{season}-{league_name_long}&div=div_stats_gca'\n",
        "            df_gca = pd.read_html(url_gca, header=1)[0]\n",
        "\n",
        "            ##### Defensive Actions stats\n",
        "            print(f'Scraping Defensive Actions stats...')\n",
        "            url_defense = f'https://widgets.sports-reference.com/wg.fcgi?css=1&site=fb&url=%2Fen%2Fcomps%2F{league_name_short}%2F{season}%2Fdefense%2Fplayers%2F{season}-{league_name_long}&div=div_stats_defense'\n",
        "            df_defense = pd.read_html(url_defense, header=1)[0]\n",
        "\n",
        "            ##### Possession stats\n",
        "            print(f'Scraping Possession stats...')\n",
        "            url_possession = f'https://widgets.sports-reference.com/wg.fcgi?css=1&site=fb&url=%2Fen%2Fcomps%2F{league_name_short}%2F{season}%2Fpossession%2Fplayers%2F{season}-{league_name_long}&div=div_stats_possession'\n",
        "            df_possession = pd.read_html(url_possession, header=1)[0]\n",
        "\n",
        "            ##### Playing Time stats\n",
        "            print(f'Scraping Playing Time stats...')\n",
        "            url_playing_time = f'https://widgets.sports-reference.com/wg.fcgi?css=1&site=fb&url=%2Fen%2Fcomps%2F{league_name_short}%2F{season}%2Fplayingtime%2Fplayers%2F{season}-{league_name_long}&div=div_stats_playing_time'\n",
        "            df_playing_time = pd.read_html(url_playing_time, header=1)[0]\n",
        "\n",
        "            ##### Miscellaneous stats\n",
        "            print(f'Scraping Miscellaneous stats...')\n",
        "            url_misc = f'https://widgets.sports-reference.com/wg.fcgi?css=1&site=fb&url=%2Fen%2Fcomps%2F{league_name_short}%2F{season}%2Fmisc%2Fplayers%2F{season}-{league_name_long}&div=div_stats_misc'\n",
        "            df_misc = pd.read_html(url_misc, header=1)[0]\n",
        "      \n",
        "            ##### Concatenate defined individual DataFrames\n",
        "                \n",
        "            ####### Define DataFrames to be concatenated side-by-side (not all of them)\n",
        "            lst_dfs = [df_std_stats, df_shooting, df_passing, df_passing_types, df_gca, df_defense, df_possession]\n",
        "\n",
        "            ###### Concatenate DataFrames side-by-side (indicated in list above)\n",
        "            df_all = pd.concat(lst_dfs, axis=1)\n",
        "\n",
        "            ###### Drop duplicate columns\n",
        "            df_all = df_all.loc[:,~df_all.columns.duplicated()]\n",
        "\n",
        "            ###### Drop duplicate rows\n",
        "            df_all = df_all.drop_duplicates()\n",
        "                \n",
        "            ##### Left join defined individual DataFrames\n",
        "                \n",
        "            ####### Define join conditions\n",
        "            conditions_join = ['Player', 'Nation', 'Pos', 'Squad', 'Comp']\n",
        "\n",
        "            ###### Left join Playing Time data\n",
        "            df_all = pd.merge(df_all, df_playing_time, left_on=conditions_join, right_on=conditions_join, how='left')\n",
        "\n",
        "            ###### Remove duplicate columns after join (contain '_y') and remove '_x' suffix from kept columns\n",
        "            df_all = df_all[df_all.columns.drop(list(df_all.filter(regex='_y')))]\n",
        "            df_all.columns = df_all.columns.str.replace('_x','')\n",
        "                \n",
        "            ###### Drop duplicate rows\n",
        "            df_all = df_all.drop_duplicates()\n",
        "\n",
        "            ###### Left join Misc data\n",
        "            df_all = pd.merge(df_all, df_misc, left_on=conditions_join, right_on=conditions_join, how='left')\n",
        "\n",
        "            ###### Remove duplicate columns after join (contain '_y') and remove '_x' suffix from kept columns\n",
        "            df_all = df_all[df_all.columns.drop(list(df_all.filter(regex='_y')))]\n",
        "            df_all.columns = df_all.columns.str.replace('_x','')\n",
        "                \n",
        "            ###### Drop duplicate rows\n",
        "            df_all = df_all.drop_duplicates()\n",
        "                \n",
        "                \n",
        "            ##### FORMAT DataFrames\n",
        "                \n",
        "            ###### Take first two digits of age - fixes current season issue with extra values\n",
        "            df_all['Age'] = df_all['Age'].astype(str).str[:2]\n",
        "                \n",
        "            ###### Create columns for league code and season\n",
        "            df_all['League Name'] = league_name_long\n",
        "            df_all['League ID'] = league_name_short\n",
        "            df_all['Season'] = season          \n",
        "\n",
        "            ###### Drop duplicates\n",
        "            df_all = df_all.drop_duplicates()\n",
        "\n",
        "    return df_all"
      ],
      "metadata": {
        "id": "SX3XfhO3URhr"
      },
      "execution_count": 4,
      "outputs": []
    },
    {
      "cell_type": "markdown",
      "source": [
        "# **3. Extracción de jugadores**\n",
        "Se hace una extracción por temporada para evitar el time out del servidor.\n"
      ],
      "metadata": {
        "id": "e0t7S4kB2H7D"
      }
    },
    {
      "cell_type": "code",
      "source": [
        "# Leagues selected to scrape\n",
        "lst_league_names = ['Big-5-European-Leagues']     #'Premier-League', 'Ligue-1', 'Bundesliga', 'Serie-A', 'La-Liga', 'Major-League-Soccer']"
      ],
      "metadata": {
        "id": "5w87YuGPVglA"
      },
      "execution_count": 5,
      "outputs": []
    },
    {
      "cell_type": "code",
      "source": [
        "playerdata2017_2018 = get_fbref_player_stats(lst_league_names,['2017-2018'])"
      ],
      "metadata": {
        "colab": {
          "base_uri": "https://localhost:8080/"
        },
        "id": "EVhm72qO18Z7",
        "outputId": "e88d3dfd-544f-4cbc-f942-b03af75616d9"
      },
      "execution_count": null,
      "outputs": [
        {
          "output_type": "stream",
          "name": "stdout",
          "text": [
            "Scraping started for the 2017-2018 season...\n",
            "Scraping started for player stats data for Big-5-European-Leagues league for the 2017-2018 season...\n",
            "Scraping Standard stats...\n",
            "Scraping Shooting stats...\n",
            "Scraping Passing stats...\n"
          ]
        }
      ]
    },
    {
      "cell_type": "code",
      "source": [
        "playerdata2018_2019 = get_fbref_player_stats(lst_league_names,['2018-2019'])"
      ],
      "metadata": {
        "id": "1CLJ_IC719Ya"
      },
      "execution_count": null,
      "outputs": []
    },
    {
      "cell_type": "code",
      "source": [
        "playerdata2019_2020 = get_fbref_player_stats(lst_league_names,['2019-2020'])"
      ],
      "metadata": {
        "id": "R234WK_lS0Er"
      },
      "execution_count": null,
      "outputs": []
    },
    {
      "cell_type": "code",
      "source": [
        "\n",
        "playerdata2020_2021 = get_fbref_player_stats(lst_league_names,['2020-2021'])"
      ],
      "metadata": {
        "id": "Ij2NbTxGRBIb"
      },
      "execution_count": null,
      "outputs": []
    },
    {
      "cell_type": "code",
      "source": [
        "playerdata2021_2022 = get_fbref_player_stats(lst_league_names,['2021-2022'])"
      ],
      "metadata": {
        "id": "EFRY_2oqRCBp"
      },
      "execution_count": null,
      "outputs": []
    },
    {
      "cell_type": "markdown",
      "source": [
        "# **4. Función para extracción de estádisticas de los porteros**"
      ],
      "metadata": {
        "id": "XU2kBtBN3SFa"
      }
    },
    {
      "cell_type": "code",
      "source": [
        "# Define function for scraping a defined season and competition of FBref player data\n",
        "def get_fbref_goalkeeper_stats(lst_league_names, lst_seasons):\n",
        "    \n",
        "    ## Define list of league names\n",
        "    league_names_long = lst_league_names\n",
        "    \n",
        "    ## Define seasons to scrape\n",
        "    seasons = lst_seasons\n",
        "    \n",
        "    ## Scrape information for each player\n",
        "    for season in seasons:\n",
        "\n",
        "        ### Print message\n",
        "        print(f'Scraping started for the {season} season...')\n",
        "\n",
        "        ### Loop through leagues\n",
        "        for league_name_long in league_names_long:\n",
        "            league_name_short = [v for k,v in dict_league_names.items() if k == league_name_long][0]\n",
        "        \n",
        "            print(f'Scraping started for goalkeeper stats data for {league_name_long} league for the {season} season...')\n",
        "\n",
        "            ##### Standard stats\n",
        "            print(f'Scraping Standard stats...')\n",
        "            url_std_stats = f'https://widgets.sports-reference.com/wg.fcgi?css=1&site=fb&url=%2Fen%2Fcomps%2F{league_name_short}%2F{season}%2Fstats%2Fplayers%2F{season}-{league_name_long}&div=div_stats_standard'\n",
        "            df_std_stats = pd.read_html(url_std_stats, header=1)[0]\n",
        "\n",
        "            ##### Goalkeeper stats\n",
        "            print(f'Scraping Goalkeeper stats...')\n",
        "            url_keepers = f'https://widgets.sports-reference.com/wg.fcgi?css=1&site=fb&url=%2Fen%2Fcomps%2F{league_name_short}%2F{season}%2Fkeepers%2Fplayers%2F{season}-{league_name_long}&div=div_stats_keeper'\n",
        "            df_keepers = pd.read_html(url_keepers, header=1)[0]\n",
        "\n",
        "            ##### Advanced Goalkeeper stats\n",
        "            print(f'Scraping Advanced Goalkeeper stats...')\n",
        "            url_keepers_adv = f'https://widgets.sports-reference.com/wg.fcgi?css=1&site=fb&url=%2Fen%2Fcomps%2F{league_name_short}%2F{season}%2Fkeepersadv%2Fplayers%2F{season}-{league_name_long}&div=div_stats_keeper_adv'\n",
        "            df_keepers_adv = pd.read_html(url_keepers_adv, header=1)[0]\n",
        "\n",
        "            ##### Playing Time stats\n",
        "            print(f'Scraping Playing Time stats...')\n",
        "            url_playing_time = f'https://widgets.sports-reference.com/wg.fcgi?css=1&site=fb&url=%2Fen%2Fcomps%2F{league_name_short}%2F{season}%2Fplayingtime%2Fplayers%2F{season}-{league_name_long}&div=div_stats_playing_time'\n",
        "            df_playing_time = pd.read_html(url_playing_time, header=1)[0]\n",
        "\n",
        "            ##### Miscellaneous stats\n",
        "            print(f'Scraping Miscellaneous stats...')\n",
        "            url_misc = f'https://widgets.sports-reference.com/wg.fcgi?css=1&site=fb&url=%2Fen%2Fcomps%2F{league_name_short}%2F{season}%2Fmisc%2Fplayers%2F{season}-{league_name_long}&div=div_stats_misc'\n",
        "            df_misc = pd.read_html(url_misc, header=1)[0]\n",
        "\n",
        "            ##### Concatenate defined individual DataFrames\n",
        "                \n",
        "            ####### Define DataFrames to be concatenated side-by-side (not all of them)\n",
        "            lst_dfs = [df_keepers, df_keepers_adv]\n",
        "\n",
        "            ###### Concatenate DataFrames side-by-side (indicated in list above)\n",
        "            df_all = pd.concat(lst_dfs, axis=1)\n",
        "\n",
        "            ###### Drop duplicate columns\n",
        "            df_all = df_all.loc[:,~df_all.columns.duplicated()]\n",
        "\n",
        "            ###### Drop duplicate rows\n",
        "            df_all = df_all.drop_duplicates()\n",
        "                \n",
        "            ##### Left join defined individual DataFrames\n",
        "                \n",
        "            ####### Define join conditions\n",
        "            conditions_join = ['Player', 'Nation', 'Pos', 'Squad', 'Comp']\n",
        "\n",
        "            ###### Left join Standard Stats data\n",
        "            df_all = pd.merge(df_all, df_std_stats, left_on=conditions_join, right_on=conditions_join, how='left')\n",
        "\n",
        "            ###### Remove duplicate columns after join (contain '_y') and remove '_x' suffix from kept columns\n",
        "            df_all = df_all[df_all.columns.drop(list(df_all.filter(regex='_y')))]\n",
        "            df_all.columns = df_all.columns.str.replace('_x','')\n",
        "                \n",
        "            ###### Drop duplicate rows\n",
        "            df_all = df_all.drop_duplicates()\n",
        "                \n",
        "            ###### Left join Playing Time data\n",
        "            df_all = pd.merge(df_all, df_playing_time, left_on=conditions_join, right_on=conditions_join, how='left')\n",
        "\n",
        "            ###### Remove duplicate columns after join (contain '_y') and remove '_x' suffix from kept columns\n",
        "            df_all = df_all[df_all.columns.drop(list(df_all.filter(regex='_y')))]\n",
        "            df_all.columns = df_all.columns.str.replace('_x','')\n",
        "                \n",
        "            ###### Drop duplicate rows\n",
        "            df_all = df_all.drop_duplicates()\n",
        "\n",
        "            ###### Left join Misc data\n",
        "            df_all = pd.merge(df_all, df_misc, left_on=conditions_join, right_on=conditions_join, how='left')\n",
        "\n",
        "            ###### Remove duplicate columns after join (contain '_y') and remove '_x' suffix from kept columns\n",
        "            df_all = df_all[df_all.columns.drop(list(df_all.filter(regex='_y')))]\n",
        "            df_all.columns = df_all.columns.str.replace('_x','')\n",
        "                \n",
        "            ###### Drop duplicate rows\n",
        "            df_all = df_all.drop_duplicates()\n",
        "                \n",
        "            ##### FORMAT DataFrames\n",
        "                \n",
        "            ###### Take first two digits of age - fixes current season issue with extra values\n",
        "            df_all['Age'] = df_all['Age'].astype(str).str[:2]\n",
        "                \n",
        "            ###### Create columns for league code and season\n",
        "            df_all['League Name'] = league_name_long\n",
        "            df_all['League ID'] = league_name_short\n",
        "            df_all['Season'] = season              \n",
        "\n",
        "             ###### Drop duplicates\n",
        "            df_all = df_all.drop_duplicates()\n",
        "\n",
        "    return df_all"
      ],
      "metadata": {
        "id": "6uP7NW94np90"
      },
      "execution_count": null,
      "outputs": []
    },
    {
      "cell_type": "markdown",
      "source": [
        "# **5. Extracción de porteros**\n",
        "Se hace una extracción por temporada para evitar el time out del servidor."
      ],
      "metadata": {
        "id": "aP8iIK_D43rb"
      }
    },
    {
      "cell_type": "code",
      "source": [
        "goalkeeperdata2017_2018 = get_fbref_goalkeeper_stats(lst_league_names,['2017-2018'])"
      ],
      "metadata": {
        "id": "Z3XaDsptdpVh"
      },
      "execution_count": null,
      "outputs": []
    },
    {
      "cell_type": "code",
      "source": [
        "goalkeeperdata2018_2019 = get_fbref_goalkeeper_stats(lst_league_names,['2018-2019'])"
      ],
      "metadata": {
        "id": "KVN9HuXJ4HX6"
      },
      "execution_count": null,
      "outputs": []
    },
    {
      "cell_type": "code",
      "source": [
        "goalkeeperdata2019_2020 = get_fbref_goalkeeper_stats(lst_league_names,['2019-2020'])"
      ],
      "metadata": {
        "id": "v9vQE0Cf4HyM"
      },
      "execution_count": null,
      "outputs": []
    },
    {
      "cell_type": "code",
      "source": [
        "goalkeeperdata2020_2021 = get_fbref_goalkeeper_stats(lst_league_names,['2020-2021'])"
      ],
      "metadata": {
        "id": "OFPZ4C7-4IGC"
      },
      "execution_count": null,
      "outputs": []
    },
    {
      "cell_type": "code",
      "source": [
        "goalkeeperdata2021_2022 = get_fbref_goalkeeper_stats(lst_league_names,['2021-2022'])"
      ],
      "metadata": {
        "id": "K6TobVt64IUy"
      },
      "execution_count": null,
      "outputs": []
    }
  ]
}